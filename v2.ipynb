{
 "cells": [
  {
   "cell_type": "markdown",
   "metadata": {},
   "source": [
    "1. We will collect the job description\n",
    "2. we will summarise the job description\n",
    "3. we will collect the resume\n",
    "4. we will extract information from the resume\n",
    "5. we will compare the job description and resume to find a match"
   ]
  },
  {
   "cell_type": "code",
   "execution_count": 1,
   "metadata": {},
   "outputs": [],
   "source": [
    "import os\n",
    "from dotenv import load_dotenv\n",
    "load_dotenv()\n",
    "\n",
    "groq_api_key=os.getenv(\"groq_api_key\")"
   ]
  },
  {
   "cell_type": "code",
   "execution_count": 2,
   "metadata": {},
   "outputs": [
    {
     "name": "stdout",
     "output_type": "stream",
     "text": [
      "\n",
      "\n",
      "\u001b[1m> Entering new StuffDocumentsChain chain...\u001b[0m\n",
      "\n",
      "\n",
      "\u001b[1m> Entering new LLMChain chain...\u001b[0m\n",
      "Prompt after formatting:\n",
      "\u001b[32;1m\u001b[1;3mWrite a concise summary of the following:\n",
      "\n",
      "\n",
      "\"We are seeking a Machine Learning Scientist to join our Discovery Science ML team at Coursera, focusing on creating the next generation of personalised search and recommender systems. The candidate will play an instrumental role in researching and developing state-of-the-art techniques for relevant, personalized, and context-aware search and recommendations â€” redefining the learning experience on our platform. In addition to helping build a robust IR system, this role requires keeping abreast of emerging trends and innovations in machine learning, information retrieval, and online education.\n",
      "\n",
      "Responsibilities:\n",
      "\n",
      "Design, develop, deploy, and maintain advanced recommendations ranking models, leveraging machine learning techniques such as two tower models, natural language processing (NLP), label collection, learning-to-rank, user behavior analysis, & LLMs\n",
      "Collaborate with cross-functional teams to align research goals with business needs and ensure successful deployment of innovative solutions into production.\n",
      "Build and manage large-scale datasets, including corpora, relevance labels, and user interactions, utilizing tools and techniques for data collection, cleaning, and preprocessing.\n",
      "Conduct thorough evaluations of recommendations models using industry-standard metrics, analyze results, and provide insights for model improvement and business strategy.\n",
      "Stay up-to-date with the latest trends in ML, recommender systems, search science, and information retrieval, frequently attending conferences, workshops, and engaging in collaborative research projects.\n",
      "Contribute to Coursera's research efforts by publishing in top-tier conferences such as SIGIR, WWW, CIKM, and similar venues.\n",
      "\n",
      "Basic Qualifications:\n",
      "\n",
      "PhD or Master's degree in Computer Science, Information Retrieval, or closely related fields.\n",
      "Demonstrated experience in developing advanced recommendations models, incorporating techniques like natural language processing (NLP) and learning-to-rank algorithms.\n",
      "Familiarity with information retrieval metrics, evaluation methodologies, and scalable search system architecture.\n",
      "Track record of publishing research in top-tier conferences such as SIGIR, EMNLP, WWW, CIKM, or similar venues.\n",
      "\n",
      "Preferred Qualifications:\n",
      "\n",
      "Proficiency in programming languages and deep learning frameworks such as Python, TensorFlow, or PyTorch.\n",
      "Experience in working with large-scale datasets and tools for data collection, cleaning, and preprocessing.\n",
      "Familiarity with ML deployment in production environments and tools for version control, such as Git.\n",
      "Proven ability to stay current with emerging research and technologies in the ML and recommendations domain.\n",
      "Experience with MLOps, ML engineering\n",
      "Experience collaborating with cross-functional teams and excellent communication abilities.\n",
      "Passion for driving impact in the field of online education through innovative ML and recommendations techniques.\n",
      "Familiarity with Coursera's platform and course offerings, as well as active participation in wider AI and Machine Learning communities, is a plus.\n",
      "Familiarity with data science concepts, including the ability to design, implement, and analyze A/B tests in an online environment to optimize product performance and user experience.\n",
      "\n",
      "If this opportunity interests you, you might like these courses on Coursera:\n",
      "\n",
      "Unsupervised Learning, Recommenders, Reinforcement Learning\n",
      "Recommender Systems: Evaluation and Metrics \n",
      "\n",
      "Coursera is an Equal Employment Opportunity Employer and considers all qualified applicants without regard to race, color, religion, sex, sexual orientation, gender identity, age, marital status, national origin, protected veteran status, disability, or any other legally protected class.\n",
      "\n",
      "If you are an individual with a disability and require a reasonable accommodation to complete any part of the application process, please contact us at accommodations@coursera.org.\"\n",
      "\n",
      "\n",
      "CONCISE SUMMARY:\u001b[0m\n",
      "\n",
      "\u001b[1m> Finished chain.\u001b[0m\n",
      "\n",
      "\u001b[1m> Finished chain.\u001b[0m\n"
     ]
    },
    {
     "data": {
      "text/plain": [
       "{'input_documents': [Document(metadata={'source': 'C:\\\\Users\\\\debaj\\\\Desktop\\\\resume_check\\\\ATS_groq\\\\Data\\\\jd.txt'}, page_content=\"We are seeking a Machine Learning Scientist to join our Discovery Science ML team at Coursera, focusing on creating the next generation of personalised search and recommender systems. The candidate will play an instrumental role in researching and developing state-of-the-art techniques for relevant, personalized, and context-aware search and recommendations â€” redefining the learning experience on our platform. In addition to helping build a robust IR system, this role requires keeping abreast of emerging trends and innovations in machine learning, information retrieval, and online education.\\n\\nResponsibilities:\\n\\nDesign, develop, deploy, and maintain advanced recommendations ranking models, leveraging machine learning techniques such as two tower models, natural language processing (NLP), label collection, learning-to-rank, user behavior analysis, & LLMs\\nCollaborate with cross-functional teams to align research goals with business needs and ensure successful deployment of innovative solutions into production.\\nBuild and manage large-scale datasets, including corpora, relevance labels, and user interactions, utilizing tools and techniques for data collection, cleaning, and preprocessing.\\nConduct thorough evaluations of recommendations models using industry-standard metrics, analyze results, and provide insights for model improvement and business strategy.\\nStay up-to-date with the latest trends in ML, recommender systems, search science, and information retrieval, frequently attending conferences, workshops, and engaging in collaborative research projects.\\nContribute to Coursera's research efforts by publishing in top-tier conferences such as SIGIR, WWW, CIKM, and similar venues.\\n\\nBasic Qualifications:\\n\\nPhD or Master's degree in Computer Science, Information Retrieval, or closely related fields.\\nDemonstrated experience in developing advanced recommendations models, incorporating techniques like natural language processing (NLP) and learning-to-rank algorithms.\\nFamiliarity with information retrieval metrics, evaluation methodologies, and scalable search system architecture.\\nTrack record of publishing research in top-tier conferences such as SIGIR, EMNLP, WWW, CIKM, or similar venues.\\n\\nPreferred Qualifications:\\n\\nProficiency in programming languages and deep learning frameworks such as Python, TensorFlow, or PyTorch.\\nExperience in working with large-scale datasets and tools for data collection, cleaning, and preprocessing.\\nFamiliarity with ML deployment in production environments and tools for version control, such as Git.\\nProven ability to stay current with emerging research and technologies in the ML and recommendations domain.\\nExperience with MLOps, ML engineering\\nExperience collaborating with cross-functional teams and excellent communication abilities.\\nPassion for driving impact in the field of online education through innovative ML and recommendations techniques.\\nFamiliarity with Coursera's platform and course offerings, as well as active participation in wider AI and Machine Learning communities, is a plus.\\nFamiliarity with data science concepts, including the ability to design, implement, and analyze A/B tests in an online environment to optimize product performance and user experience.\\n\\nIf this opportunity interests you, you might like these courses on Coursera:\\n\\nUnsupervised Learning, Recommenders, Reinforcement Learning\\nRecommender Systems: Evaluation and Metrics \\n\\nCoursera is an Equal Employment Opportunity Employer and considers all qualified applicants without regard to race, color, religion, sex, sexual orientation, gender identity, age, marital status, national origin, protected veteran status, disability, or any other legally protected class.\\n\\nIf you are an individual with a disability and require a reasonable accommodation to complete any part of the application process, please contact us at accommodations@coursera.org.\")],\n",
       " 'output_text': \"Coursera is seeking a Machine Learning Scientist to join their Discovery Science ML team. The ideal candidate will:\\n\\n- Design and develop advanced recommender systems using machine learning techniques\\n- Collaborate with cross-functional teams to deploy innovative solutions\\n- Build and manage large-scale datasets\\n- Evaluate and improve recommendations models using industry-standard metrics\\n\\nRequirements include:\\n\\n- PhD or Master's degree in Computer Science or related fields\\n- Experience in developing advanced recommendations models and publishing research in top-tier conferences\\n- Familiarity with information retrieval metrics, deep learning frameworks, and scalable search system architecture\\n\\nPreferred qualifications include:\\n\\n- Proficiency in programming languages and deep learning frameworks\\n- Experience with large-scale datasets and MLOps\\n- Excellent communication abilities and passion for driving impact in online education.\"}"
      ]
     },
     "execution_count": 2,
     "metadata": {},
     "output_type": "execute_result"
    }
   ],
   "source": [
    "from langchain.chains.summarize import load_summarize_chain\n",
    "from langchain_community.document_loaders import TextLoader\n",
    "from langchain_core.prompts.prompt import PromptTemplate\n",
    "from langchain_groq import ChatGroq\n",
    "\n",
    "loader=TextLoader(r\"C:\\Users\\debaj\\Desktop\\resume_check\\ATS_groq\\Data\\jd.txt\")\n",
    "documents=loader.load()\n",
    "\n",
    "\n",
    "template = \"\"\"\n",
    "    Write a concise and short summary of the following job description,\n",
    "    Description :{text}\n",
    "\n",
    "\"\"\"\n",
    "prompt = PromptTemplate(input_variables=[\"text\"],template=template)\n",
    "\n",
    "llm=ChatGroq(model=\"llama-3.1-8b-instant\")\n",
    "\n",
    "chain=load_summarize_chain(llm,chain_type=\"stuff\",verbose=True)\n",
    "summary=chain.invoke(documents)\n",
    "summary"
   ]
  },
  {
   "cell_type": "code",
   "execution_count": 10,
   "metadata": {},
   "outputs": [
    {
     "name": "stdout",
     "output_type": "stream",
     "text": [
      "Coursera is seeking a Machine Learning Scientist to join their Discovery Science ML team. The ideal candidate will:\n",
      "\n",
      "- Design and develop advanced recommender systems using machine learning techniques\n",
      "- Collaborate with cross-functional teams to deploy innovative solutions\n",
      "- Build and manage large-scale datasets\n",
      "- Evaluate and improve recommendations models using industry-standard metrics\n",
      "\n",
      "Requirements include:\n",
      "\n",
      "- PhD or Master's degree in Computer Science or related fields\n",
      "- Experience in developing advanced recommendations models and publishing research in top-tier conferences\n",
      "- Familiarity with information retrieval metrics, deep learning frameworks, and scalable search system architecture\n",
      "\n",
      "Preferred qualifications include:\n",
      "\n",
      "- Proficiency in programming languages and deep learning frameworks\n",
      "- Experience with large-scale datasets and MLOps\n",
      "- Excellent communication abilities and passion for driving impact in online education.\n"
     ]
    }
   ],
   "source": [
    "jd_summary=summary[\"output_text\"]\n",
    "print(jd_summary)"
   ]
  },
  {
   "cell_type": "code",
   "execution_count": 11,
   "metadata": {},
   "outputs": [],
   "source": [
    "import PyPDF2\n",
    "\n",
    "def pdf_to_text(pdf_path,txt_path):\n",
    "    try:\n",
    "        with open(pdf_path,\"rb\") as pdf_file:\n",
    "            pdf_reader=PyPDF2.PdfReader(pdf_file)\n",
    "            text_content=\"\"\n",
    "            for page in pdf_reader.pages:\n",
    "                text_content+=page.extract_text()\n",
    "\n",
    "        with open(txt_path,\"w\",encoding=\"utf-8\") as txt_file:\n",
    "            txt_file.write(text_content)\n",
    "        print(f\"Successfully converted {pdf_path} to {txt_path}\")\n",
    "    except Exception as e:\n",
    "        pass"
   ]
  },
  {
   "cell_type": "code",
   "execution_count": 13,
   "metadata": {},
   "outputs": [
    {
     "name": "stdout",
     "output_type": "stream",
     "text": [
      "Successfully converted C:\\Users\\debaj\\Desktop\\resume_check\\ATS_groq\\Subhajyoti_Maity_resume_2024_9.pdf to C:\\Users\\debaj\\Desktop\\resume_check\\ATS_groq\\Data\\output.txt\n"
     ]
    }
   ],
   "source": [
    "pdf_to_text(r\"C:\\Users\\debaj\\Desktop\\resume_check\\ATS_groq\\Subhajyoti_Maity_resume_2024_9.pdf\",\n",
    "            r\"C:\\Users\\debaj\\Desktop\\resume_check\\ATS_groq\\Data\\output.txt\")\n"
   ]
  },
  {
   "cell_type": "code",
   "execution_count": 17,
   "metadata": {},
   "outputs": [
    {
     "name": "stdout",
     "output_type": "stream",
     "text": [
      "\n",
      "\n",
      "\u001b[1m> Entering new StuffDocumentsChain chain...\u001b[0m\n",
      "\n",
      "\n",
      "\u001b[1m> Entering new LLMChain chain...\u001b[0m\n",
      "Prompt after formatting:\n",
      "\u001b[32;1m\u001b[1;3m\n",
      "    Write a concise and short summary of the following resume,\n",
      "    Resume :SUBHAJYOTI MAITY\n",
      "Tech Consultant\n",
      "subhajyotimaity123@gmail.com /♀nednhttps://www.linkedin.com/in/subhajyoti-maity-84577a25b/ /gtbhttps://github.com/subhajyotirkmveri/ /ne(+91) 7319453140\n",
      "BACKGROUND\n",
      "•Tech consultant\n",
      "Ὄ01/09/2024 - present QJ Consulting Pvt Ltd.\n",
      "•Tech consultant Intership\n",
      "Ὄ01/06/2024 - 31/08/2024 QJ Consulting Pvt Ltd.\n",
      "ACADEMIC PROJECTS\n",
      "Developed a question answering app\n",
      "speciﬁcally for PDF documents\n",
      "LLM | LLama-2 | Mistral 7B\n",
      "Ὄ01/2024- 05/2024\n",
      "•Create an object for generating vector embeddings\n",
      "of text chunks using pre-train sentence tranformer\n",
      "model like all-MiniLM-L6-v2.\n",
      "•I utilize the FAISS (Facebook AI Similarity Search)\n",
      "library to eﬃciently search for embeddings of\n",
      "multimedia documents that exhibit similarity to one\n",
      "another.\n",
      "•Perform Nearest Neighbourhood Search to retrieve\n",
      "top k relevant chunk of the user input.\n",
      "•LLM model are used for generating responses in a\n",
      "conversational setting.\n",
      "•Develop a Streamlit web application that return the\n",
      "answer to a question relevant to the PDF documents\n",
      "and include the source document page.\n",
      "Object detection using the YOLOv8 model\n",
      "on custom datasets\n",
      "Computer Vision | YOLOv8\n",
      "Ὄ01/2024- 05/2024\n",
      "•Leveraged data augmentation techniques such as\n",
      "rotation, ﬂipping, and scaling to increase the diversity\n",
      "of training data and improve model generalization.\n",
      "•Utilized YOLOv8 (You Only Look Once version 8)\n",
      "object detection model for accurate and real-time\n",
      "detection of butterﬂies and squirrels in images.\n",
      "•The evaluation metrics used to assess the model’s\n",
      "performance such as mAP (mean Average Precision),\n",
      "IoU (Intersection over Union).\n",
      "•Develop a Streamlit web application for detecting\n",
      "images containing butterﬂies and squirrels .\n",
      "Spam or Non-Spam Message Detection\n",
      "Natural Language Processing\n",
      "Ὄ04/2023-07/2023\n",
      "•Conducted initial preprocessing of the text corpus,\n",
      "which included both spam and non-spam messages.\n",
      "•Employed the Bag of Words (BoW) approach to\n",
      "transform and structure the text data for further\n",
      "analysis and also use Tf-Idf Model for enhanced\n",
      "feature extraction.\n",
      "Home Loan Approval Prediction\n",
      "Machine Learning\n",
      "Ὄ01/2023-04/2023\n",
      "•Explored and implemented diverse Machine Learning\n",
      "classiﬁcation models (including KNN and Naive\n",
      "Bayes,Logistic Regression,Decision Tree) for\n",
      "predicting Home Loan Approval.\n",
      "•Among those models, the Decision Tree model\n",
      "demonstrated superior accuracy in predicting Home\n",
      "Loan Approval status.\n",
      "ACHIEVEMENT\n",
      "Inspire Scholarship (SHE)EDUCATION\n",
      "MSc in Big Data Analytics\n",
      "Ramakrishna Mission Vivekananda Educational and Research Institute\n",
      "ὌAug 2022 – July 2024\n",
      "B.Sc - Mathematics Honours\n",
      "Under Vidyasagar University\n",
      "ὌJul 2019 – July 2022\n",
      "EXPERTISE\n",
      "Generative Artiﬁcial Intelligence EDA Feature Engineering\n",
      "Machine Learning Modelling NLP Documentation Web Scrapping\n",
      "Time Series Modeling Power Automation Real time data updation in Power Bi\n",
      "Semantic Model\n",
      "TECHNICAL SKILLS\n",
      "Python R SQL Power Bi Power Automation Real time data Updation\n",
      "Pyspark pytorch tensorﬂow Scikit-Learn\n",
      "CERTIFICATION\n",
      "•NPTEL Data Mining\n",
      "•NPTEL DataBase Management System\n",
      "•SQL certiﬁcation from HackerRank\n",
      "PROFESSIONAL EXPERIENCE\n",
      "Devlope an application that extract data from various invoice formats\n",
      "LLM | Gemini Pro\n",
      "Ὄ06/2024- QJ Consulting Pvt Ltd.\n",
      "•The application will enable users to upload multiple ﬁles whether in image or PDF\n",
      "format.\n",
      "•Sends prompt text that include a comprehensive prompt for the Google Gemini model\n",
      "to ensure accurate extraction of invoice details such as Invoice No, Supplier Name, Bill\n",
      "To Details, Product Name, Quantity, Unit, Per Unit Price, and Amount and image data to\n",
      "the Google Gemini model and retrieves responses.\n",
      "•Identify and extract relevant substrings from the model’s response.\n",
      "•Convert the structured text into a pandas DataFrame, ensuring correct parsing and\n",
      "formatting of invoice data and combine the data from all processed ﬁles into a single\n",
      "DataFrame for easy review and download\n",
      "Develope an application that translates natural language question into\n",
      "SQL queries\n",
      "LLM | Gemini Pro\n",
      "Ὄ06/2024- QJ Consulting Pvt Ltd.\n",
      "•Created a sqlite database from three Excel sheets related to purchase order details,\n",
      "integrating them into a cohesive data structure.\n",
      "•A comprehensive prompt template is used to guide the AI model in generating accurate\n",
      "SQL queries based on the input questions\n",
      "•Executes the generated SQL query on the that database and displays the results in the\n",
      "Streamlit app\n",
      "•Appends each interaction (user question, generated SQL query, and response) to a CSV\n",
      "ﬁle for logging and future reference\n",
      "\n",
      "\u001b[0m\n",
      "\n",
      "\u001b[1m> Finished chain.\u001b[0m\n",
      "\n",
      "\u001b[1m> Finished chain.\u001b[0m\n"
     ]
    },
    {
     "data": {
      "text/plain": [
       "{'input_documents': [Document(metadata={'source': 'C:\\\\Users\\\\debaj\\\\Desktop\\\\resume_check\\\\ATS_groq\\\\Data\\\\output.txt'}, page_content='SUBHAJYOTI MAITY\\nTech Consultant\\nsubhajyotimaity123@gmail.com /♀nednhttps://www.linkedin.com/in/subhajyoti-maity-84577a25b/ /gtbhttps://github.com/subhajyotirkmveri/ /ne(+91) 7319453140\\nBACKGROUND\\n•Tech consultant\\nὌ01/09/2024 - present QJ Consulting Pvt Ltd.\\n•Tech consultant Intership\\nὌ01/06/2024 - 31/08/2024 QJ Consulting Pvt Ltd.\\nACADEMIC PROJECTS\\nDeveloped a question answering app\\nspeciﬁcally for PDF documents\\nLLM | LLama-2 | Mistral 7B\\nὌ01/2024- 05/2024\\n•Create an object for generating vector embeddings\\nof text chunks using pre-train sentence tranformer\\nmodel like all-MiniLM-L6-v2.\\n•I utilize the FAISS (Facebook AI Similarity Search)\\nlibrary to eﬃciently search for embeddings of\\nmultimedia documents that exhibit similarity to one\\nanother.\\n•Perform Nearest Neighbourhood Search to retrieve\\ntop k relevant chunk of the user input.\\n•LLM model are used for generating responses in a\\nconversational setting.\\n•Develop a Streamlit web application that return the\\nanswer to a question relevant to the PDF documents\\nand include the source document page.\\nObject detection using the YOLOv8 model\\non custom datasets\\nComputer Vision | YOLOv8\\nὌ01/2024- 05/2024\\n•Leveraged data augmentation techniques such as\\nrotation, ﬂipping, and scaling to increase the diversity\\nof training data and improve model generalization.\\n•Utilized YOLOv8 (You Only Look Once version 8)\\nobject detection model for accurate and real-time\\ndetection of butterﬂies and squirrels in images.\\n•The evaluation metrics used to assess the model’s\\nperformance such as mAP (mean Average Precision),\\nIoU (Intersection over Union).\\n•Develop a Streamlit web application for detecting\\nimages containing butterﬂies and squirrels .\\nSpam or Non-Spam Message Detection\\nNatural Language Processing\\nὌ04/2023-07/2023\\n•Conducted initial preprocessing of the text corpus,\\nwhich included both spam and non-spam messages.\\n•Employed the Bag of Words (BoW) approach to\\ntransform and structure the text data for further\\nanalysis and also use Tf-Idf Model for enhanced\\nfeature extraction.\\nHome Loan Approval Prediction\\nMachine Learning\\nὌ01/2023-04/2023\\n•Explored and implemented diverse Machine Learning\\nclassiﬁcation models (including KNN and Naive\\nBayes,Logistic Regression,Decision Tree) for\\npredicting Home Loan Approval.\\n•Among those models, the Decision Tree model\\ndemonstrated superior accuracy in predicting Home\\nLoan Approval status.\\nACHIEVEMENT\\nInspire Scholarship (SHE)EDUCATION\\nMSc in Big Data Analytics\\nRamakrishna Mission Vivekananda Educational and Research Institute\\nὌAug 2022 – July 2024\\nB.Sc - Mathematics Honours\\nUnder Vidyasagar University\\nὌJul 2019 – July 2022\\nEXPERTISE\\nGenerative Artiﬁcial Intelligence EDA Feature Engineering\\nMachine Learning Modelling NLP Documentation Web Scrapping\\nTime Series Modeling Power Automation Real time data updation in Power Bi\\nSemantic Model\\nTECHNICAL SKILLS\\nPython R SQL Power Bi Power Automation Real time data Updation\\nPyspark pytorch tensorﬂow Scikit-Learn\\nCERTIFICATION\\n•NPTEL Data Mining\\n•NPTEL DataBase Management System\\n•SQL certiﬁcation from HackerRank\\nPROFESSIONAL EXPERIENCE\\nDevlope an application that extract data from various invoice formats\\nLLM | Gemini Pro\\nὌ06/2024- QJ Consulting Pvt Ltd.\\n•The application will enable users to upload multiple ﬁles whether in image or PDF\\nformat.\\n•Sends prompt text that include a comprehensive prompt for the Google Gemini model\\nto ensure accurate extraction of invoice details such as Invoice No, Supplier Name, Bill\\nTo Details, Product Name, Quantity, Unit, Per Unit Price, and Amount and image data to\\nthe Google Gemini model and retrieves responses.\\n•Identify and extract relevant substrings from the model’s response.\\n•Convert the structured text into a pandas DataFrame, ensuring correct parsing and\\nformatting of invoice data and combine the data from all processed ﬁles into a single\\nDataFrame for easy review and download\\nDevelope an application that translates natural language question into\\nSQL queries\\nLLM | Gemini Pro\\nὌ06/2024- QJ Consulting Pvt Ltd.\\n•Created a sqlite database from three Excel sheets related to purchase order details,\\nintegrating them into a cohesive data structure.\\n•A comprehensive prompt template is used to guide the AI model in generating accurate\\nSQL queries based on the input questions\\n•Executes the generated SQL query on the that database and displays the results in the\\nStreamlit app\\n•Appends each interaction (user question, generated SQL query, and response) to a CSV\\nﬁle for logging and future reference')],\n",
       " 'output_text': \"Here's a concise and short summary of the resume:\\n\\n**Name:** Subhajyoti Maity\\n\\n**Profession:** Tech Consultant\\n\\n**Summary:** Highly motivated and experienced tech consultant with expertise in Generative Artificial Intelligence, Machine Learning, NLP, and Data Science. Strong background in developing AI-powered applications, including question answering apps, object detection models, and spam message detection systems. Proficient in programming languages like Python, R, and SQL, and experienced in working with tools like PySpark, PyTorch, and Tensorflow.\\n\\n**Key Skills:** LLM, Gemini Pro, Streamlit, YOLOv8, FAISS, Power Bi, Power Automation, Python, R, SQL, PySpark, PyTorch, Tensorflow, Scikit-Learn.\"}"
      ]
     },
     "execution_count": 17,
     "metadata": {},
     "output_type": "execute_result"
    }
   ],
   "source": [
    "resume_loader=TextLoader(\n",
    "    file_path=r\"C:\\Users\\debaj\\Desktop\\resume_check\\ATS_groq\\Data\\output.txt\",\n",
    "    encoding=\"utf-8\"\n",
    ")\n",
    "\n",
    "resume_document=resume_loader.load()\n",
    "\n",
    "template = \"\"\"\n",
    "    Write a concise and short summary of the following resume,\n",
    "    Resume :{text}\n",
    "\n",
    "\"\"\"\n",
    "\n",
    "prompt = PromptTemplate(input_variables=[\"text\"],template=template)\n",
    "\n",
    "resume_chain=load_summarize_chain(llm,chain_type=\"stuff\",prompt=prompt,verbose=True)\n",
    "resume_output_summary=resume_chain.invoke(resume_document)\n",
    "resume_output_summary"
   ]
  },
  {
   "cell_type": "code",
   "execution_count": 18,
   "metadata": {},
   "outputs": [],
   "source": [
    "resume_summary=resume_output_summary[\"output_text\"]"
   ]
  },
  {
   "cell_type": "code",
   "execution_count": 19,
   "metadata": {},
   "outputs": [
    {
     "name": "stdout",
     "output_type": "stream",
     "text": [
      "**Match Percentage: 80%**\n",
      "\n",
      "The resume of Subhajyoti Maity matches the job description of Machine Learning Scientist at Coursera to a significant extent. However, there are some areas where the resume could be improved to increase the match percentage.\n",
      "\n",
      "**Missing Keywords and Requirements:**\n",
      "\n",
      "1. **Advanced Recommender Systems:** The resume does not explicitly mention experience with recommender systems, which is a key requirement for the job.\n",
      "2. **Research Experience:** While the resume mentions expertise in Generative Artificial Intelligence, Machine Learning, NLP, and Data Science, it does not explicitly mention research experience in top-tier conferences, which is a requirement for the job.\n",
      "3. **Information Retrieval Metrics:** Although the resume mentions expertise in NLP, it does not explicitly mention experience with information retrieval metrics, which is a requirement for the job.\n",
      "4. **Scalable Search System Architecture:** The resume does not mention experience with scalable search system architecture, which is a preferred qualification for the job.\n",
      "5. **PhD or Master's Degree:** The resume does not explicitly mention a PhD or Master's degree in Computer Science or related fields, which is a requirement for the job.\n",
      "\n",
      "**Missing Programming Languages and Frameworks:**\n",
      "\n",
      "1. **Distributed Computing Frameworks:** The resume mentions PySpark, but does not mention other distributed computing frameworks like Hadoop.\n",
      "2. **Large-Scale Data Management:** The resume mentions experience with working with large datasets, but does not explicitly mention tools like BigQuery or AWS Lake Formation.\n",
      "\n",
      "**Final Thought:**\n",
      "\n",
      "Subhajyoti Maity appears to be a strong candidate with a solid background in machine learning and data science. However, to increase the match percentage, he should emphasize his experience with recommender systems, research experience in top-tier conferences, and information retrieval metrics. Additionally, highlighting his experience with scalable search system architecture, distributed computing frameworks, and large-scale data management tools can further strengthen his application.\n"
     ]
    }
   ],
   "source": [
    "template = \"\"\"\n",
    "    You are a skilled ATS(Applicany Tracking System) scanner with a deep understanding of data science and other non IT fields and ATS Functionality. Your task is to evaluate the resume summary:{resume_summary} against the provided job description summary:{jd_summary}. Give me the percentage of match if the resume matches with the job description. First output should come as percentage and then keywords missing and final thought about the candidate.\n",
    "\n",
    "\"\"\"\n",
    "\n",
    "prompt = PromptTemplate(input_variables=[\"resume_summary\",\"jd_summary\"],template=template)\n",
    "\n",
    "llm=ChatGroq(model=\"llama-3.1-8b-instant\")\n",
    "\n",
    "llm_chain = prompt | llm\n",
    "response=llm_chain.invoke({\"resume_summary\":resume_summary,\"jd_summary\":jd_summary})\n",
    "print(response.content)"
   ]
  },
  {
   "cell_type": "code",
   "execution_count": 20,
   "metadata": {},
   "outputs": [
    {
     "name": "stdout",
     "output_type": "stream",
     "text": [
      "\n",
      "    You are a skilled ATS(Applicany Tracking System) scanner with a deep understanding of data science and other non IT fields and ATS Functionality. Your task is to evaluate the resume summary:Here's a concise and short summary of the resume:\n",
      "\n",
      "**Name:** Subhajyoti Maity\n",
      "\n",
      "**Profession:** Tech Consultant\n",
      "\n",
      "**Summary:** Highly motivated and experienced tech consultant with expertise in Generative Artificial Intelligence, Machine Learning, NLP, and Data Science. Strong background in developing AI-powered applications, including question answering apps, object detection models, and spam message detection systems. Proficient in programming languages like Python, R, and SQL, and experienced in working with tools like PySpark, PyTorch, and Tensorflow.\n",
      "\n",
      "**Key Skills:** LLM, Gemini Pro, Streamlit, YOLOv8, FAISS, Power Bi, Power Automation, Python, R, SQL, PySpark, PyTorch, Tensorflow, Scikit-Learn. against the provided job description summary:Coursera is seeking a Machine Learning Scientist to join their Discovery Science ML team. The ideal candidate will:\n",
      "\n",
      "- Design and develop advanced recommender systems using machine learning techniques\n",
      "- Collaborate with cross-functional teams to deploy innovative solutions\n",
      "- Build and manage large-scale datasets\n",
      "- Evaluate and improve recommendations models using industry-standard metrics\n",
      "\n",
      "Requirements include:\n",
      "\n",
      "- PhD or Master's degree in Computer Science or related fields\n",
      "- Experience in developing advanced recommendations models and publishing research in top-tier conferences\n",
      "- Familiarity with information retrieval metrics, deep learning frameworks, and scalable search system architecture\n",
      "\n",
      "Preferred qualifications include:\n",
      "\n",
      "- Proficiency in programming languages and deep learning frameworks\n",
      "- Experience with large-scale datasets and MLOps\n",
      "- Excellent communication abilities and passion for driving impact in online education.. Give me the percentage of match if the resume matches with the job description. First output should come as percentage and then keywords missing and final thought about the candidate.\n",
      "\n",
      "\n"
     ]
    }
   ],
   "source": [
    "complete_prompt = prompt.format(resume_summary=resume_summary,jd_summary=jd_summary)\n",
    "print(complete_prompt)"
   ]
  },
  {
   "cell_type": "code",
   "execution_count": 21,
   "metadata": {},
   "outputs": [
    {
     "name": "stdout",
     "output_type": "stream",
     "text": [
      "**Summary:**\n",
      "\n",
      "Based on the resume, Subhajyoti Maity appears to be a highly motivated and experienced tech consultant with a strong background in machine learning, data science, and artificial intelligence. He has expertise in developing AI-powered applications, including question answering apps, object detection models, and spam message detection systems. His proficiency in programming languages like Python, R, and SQL, and experience with tools like PySpark, PyTorch, and Tensorflow, suggest that he is well-versed in a wide range of technologies.\n",
      "\n",
      "**Experience:**\n",
      "\n",
      "While the resume does not provide a detailed account of Subhajyoti's work experience, it appears that he has worked on a variety of projects related to machine learning and data science. His experience with developing AI-powered applications suggests that he has hands-on experience with building and deploying machine learning models in real-world settings.\n",
      "\n",
      "**Skills:**\n",
      "\n",
      "Subhajyoti's skill set is quite impressive, with expertise in a wide range of areas, including:\n",
      "\n",
      "1. **Machine Learning:** He has experience with a variety of machine learning algorithms, including supervised and unsupervised learning, and has worked on applications such as question answering, object detection, and spam message detection.\n",
      "2. **Deep Learning:** He has worked with deep learning frameworks like PyTorch and Tensorflow, and has experience with techniques like convolutional neural networks (CNNs) and recurrent neural networks (RNNs).\n",
      "3. **NLP:** He has expertise in natural language processing (NLP) and has worked on applications such as text classification, sentiment analysis, and language modeling.\n",
      "4. **Data Science:** He has experience with data science tools like PySpark, and has worked on applications such as data visualization, data mining, and predictive modeling.\n",
      "5. **Programming Languages:** He is proficient in programming languages like Python, R, and SQL, and has experience with data science libraries like pandas, NumPy, and scikit-learn.\n",
      "\n",
      "**Education:**\n",
      "\n",
      "While the resume does not provide information about Subhajyoti's educational background, it is likely that he has a strong foundation in computer science or a related field.\n",
      "\n",
      "**Personal Qualities:**\n",
      "\n",
      "Based on the resume, it appears that Subhajyoti is a highly motivated and driven individual who is passionate about machine learning and data science. His experience working on a variety of projects suggests that he is a team player who is able to collaborate with others to achieve common goals.\n",
      "\n",
      "**Career Goals:**\n",
      "\n",
      "Based on the resume, it appears that Subhajyoti is interested in pursuing a career in machine learning and data science, and is looking for opportunities to apply his skills and expertise in real-world settings. He may be interested in roles such as machine learning engineer, data scientist, or research scientist.\n"
     ]
    }
   ],
   "source": [
    "from langchain_core.messages import AIMessage, HumanMessage, SystemMessage\n",
    "from langchain_core.prompts import ChatPromptTemplate, MessagesPlaceholder\n",
    "\n",
    "prompt= ChatPromptTemplate.from_messages(\n",
    "    [\n",
    "        SystemMessage(content=f\"{complete_prompt}\"),\n",
    "        MessagesPlaceholder(variable_name=\"messages\")\n",
    "    ]\n",
    ")\n",
    "\n",
    "chain = prompt | llm\n",
    "\n",
    "ai_msg= chain.invoke({\n",
    "    \"messages\":[\n",
    "        HumanMessage(content=\"Give me the percentage of match if the resume matches with the job description. First output should come as percentage and then keywords missing and final thought about the candidate\"),\n",
    "        AIMessage(content=response.content),\n",
    "        HumanMessage(\"Tell me more about him?\")\n",
    "    ]\n",
    "})\n",
    "\n",
    "print(ai_msg.content)"
   ]
  },
  {
   "cell_type": "code",
   "execution_count": null,
   "metadata": {},
   "outputs": [],
   "source": []
  },
  {
   "cell_type": "code",
   "execution_count": null,
   "metadata": {},
   "outputs": [],
   "source": []
  },
  {
   "cell_type": "code",
   "execution_count": null,
   "metadata": {},
   "outputs": [],
   "source": []
  },
  {
   "cell_type": "code",
   "execution_count": null,
   "metadata": {},
   "outputs": [],
   "source": []
  },
  {
   "cell_type": "code",
   "execution_count": null,
   "metadata": {},
   "outputs": [],
   "source": []
  },
  {
   "cell_type": "code",
   "execution_count": null,
   "metadata": {},
   "outputs": [],
   "source": []
  }
 ],
 "metadata": {
  "kernelspec": {
   "display_name": "ats",
   "language": "python",
   "name": "python3"
  },
  "language_info": {
   "codemirror_mode": {
    "name": "ipython",
    "version": 3
   },
   "file_extension": ".py",
   "mimetype": "text/x-python",
   "name": "python",
   "nbconvert_exporter": "python",
   "pygments_lexer": "ipython3",
   "version": "3.12.6"
  }
 },
 "nbformat": 4,
 "nbformat_minor": 2
}
